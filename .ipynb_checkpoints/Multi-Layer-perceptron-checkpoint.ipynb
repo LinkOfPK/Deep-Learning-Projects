{
 "cells": [
  {
   "cell_type": "code",
   "execution_count": 1,
   "id": "2190eac7-9645-4f5d-a5f7-d733e1fa5400",
   "metadata": {},
   "outputs": [
    {
     "name": "stdout",
     "output_type": "stream",
     "text": [
      "tensor([[1., 1.],\n",
      "        [1., 1.]])\n",
      "tensor([[2., 2.],\n",
      "        [2., 2.]])\n",
      "tensor([[3., 3.],\n",
      "        [3., 3.]])\n",
      "tensor([[4., 4.],\n",
      "        [4., 4.]])\n",
      "tensor([[1.4142, 1.4142],\n",
      "        [1.4142, 1.4142]])\n"
     ]
    }
   ],
   "source": [
    "#tensor operations\n",
    "\n",
    "import torch\n",
    "\n",
    "ones =torch.zeros(2,2) +1\n",
    "twos =torch.ones(2,2) *2\n",
    "threes =(torch.ones(2,2) *7-1)/2\n",
    "fours =twos **2\n",
    "sqrt2s =twos **0.5\n",
    "\n",
    "print(ones)\n",
    "print(twos)\n",
    "print(threes)\n",
    "print(fours)\n",
    "print(sqrt2s)"
   ]
  },
  {
   "cell_type": "code",
   "execution_count": 5,
   "id": "fcea24f3-508c-4267-9e2c-e185415c559f",
   "metadata": {},
   "outputs": [
    {
     "name": "stdout",
     "output_type": "stream",
     "text": [
      "tensor([[ 2.,  4.],\n",
      "        [ 8., 16.]])\n",
      "tensor([[5., 5.],\n",
      "        [5., 5.]])\n",
      "tensor([[12., 12.],\n",
      "        [12., 12.]])\n"
     ]
    }
   ],
   "source": [
    "powers2 =twos **torch.tensor([[1,2],[3,4]])\n",
    "print(powers2)\n",
    "\n",
    "fives =ones +fours\n",
    "print(fives)\n",
    "\n",
    "dozens =threes *fours\n",
    "print(dozens)"
   ]
  },
  {
   "cell_type": "code",
   "execution_count": 7,
   "id": "2d0ffcf2-42ae-40c5-a6b0-0360eb15a679",
   "metadata": {},
   "outputs": [
    {
     "name": "stdout",
     "output_type": "stream",
     "text": [
      "tensor([[11, 22],\n",
      "        [13, 24]])\n"
     ]
    }
   ],
   "source": [
    "a = torch.tensor([[1, 2],\n",
    "                  [3, 4]])\n",
    "\n",
    "b = torch.tensor([10, 20])  # shape: (2,)\n",
    "print(a + b)  # 자동으로 [10, 20]이 각 행에 broadcast됨\n",
    "\n",
    "#이게 바로 PyTorch가 강력한 이유 중 하나죠! 복잡한 shape 간에도 자동으로 맞춰줍니다.\n",
    "#간단한 연산처럼 보여도, 이걸 잘 이해하고 있으면\n",
    "#📌 딥러닝 모델 만들 때 텐서 shape 오류를 줄이는 데 큰 도움이 됩니다."
   ]
  },
  {
   "cell_type": "code",
   "execution_count": 9,
   "id": "966de360-9796-4401-b5c2-2323057996d0",
   "metadata": {},
   "outputs": [
    {
     "ename": "RuntimeError",
     "evalue": "The size of tensor a (3) must match the size of tensor b (2) at non-singleton dimension 1",
     "output_type": "error",
     "traceback": [
      "\u001b[1;31m---------------------------------------------------------------------------\u001b[0m",
      "\u001b[1;31mRuntimeError\u001b[0m                              Traceback (most recent call last)",
      "Cell \u001b[1;32mIn[9], line 5\u001b[0m\n\u001b[0;32m      3\u001b[0m a \u001b[38;5;241m=\u001b[39mtorch\u001b[38;5;241m.\u001b[39mrand(\u001b[38;5;241m2\u001b[39m,\u001b[38;5;241m3\u001b[39m)\n\u001b[0;32m      4\u001b[0m b \u001b[38;5;241m=\u001b[39mtorch\u001b[38;5;241m.\u001b[39mrand(\u001b[38;5;241m3\u001b[39m,\u001b[38;5;241m2\u001b[39m)\n\u001b[1;32m----> 5\u001b[0m \u001b[38;5;28mprint\u001b[39m(a\u001b[38;5;241m*\u001b[39mb)\n",
      "\u001b[1;31mRuntimeError\u001b[0m: The size of tensor a (3) must match the size of tensor b (2) at non-singleton dimension 1"
     ]
    }
   ],
   "source": [
    "import torch\n",
    "\n",
    "a =torch.rand(2,3)\n",
    "b =torch.rand(3,2)\n",
    "print(a*b)\n",
    "\n",
    "# RuntimeError: The size of tensor a (3) must match the size of tensor b (2) at non-singleton dimension \n",
    "# 어느 한 차원도 맞지 않아서 브로드캐스트 할 수 없는 상황"
   ]
  },
  {
   "cell_type": "code",
   "execution_count": 11,
   "id": "c0893bc8-bbcf-42a2-801e-eec8d3408fc9",
   "metadata": {},
   "outputs": [
    {
     "name": "stdout",
     "output_type": "stream",
     "text": [
      "tensor([[0.1161, 0.0903, 0.7056, 0.9102],\n",
      "        [0.7192, 0.9436, 0.3515, 0.3888]])\n",
      "tensor([[0.2323, 0.1807, 1.4112, 1.8204],\n",
      "        [1.4383, 1.8872, 0.7030, 0.7776]])\n"
     ]
    }
   ],
   "source": [
    "import torch\n",
    "rand =torch.rand(2,4) #그 random이 맞다\n",
    "doubled =rand *(torch.ones(1,4) *2)\n",
    "print(rand)\n",
    "print(doubled)"
   ]
  },
  {
   "cell_type": "code",
   "execution_count": 15,
   "id": "d9ce0aa5-6dba-4af1-b6bd-b666dba6e386",
   "metadata": {},
   "outputs": [
    {
     "name": "stdout",
     "output_type": "stream",
     "text": [
      "a shape: torch.Size([4, 3, 2])\n",
      "b1 shape: torch.Size([3, 2])\n",
      "result shape: torch.Size([4, 3, 2])\n"
     ]
    }
   ],
   "source": [
    "# task1  텐서 브로드캐스트\n",
    "\n",
    "import torch\n",
    "\n",
    "a =torch.ones(4,3,2)\n",
    "print(\"a shape:\", a.shape)\n",
    "\n",
    "b1 =torch.rand(3,2)\n",
    "print(\"b1 shape:\", b1.shape)\n",
    "\n",
    "result1 = a +1\n",
    "print(\"result shape:\", result1.shape)\n",
    "\n",
    "#a에서 3차원 모양의(4,3,2) 토치를 만들었다\n",
    "#b1에서는 2차원 모양의(3,2) 토치를 만들었고\n",
    "#이를 브로드캐스트 했을 떄의 결과를 보라라"
   ]
  },
  {
   "cell_type": "code",
   "execution_count": 19,
   "id": "1555aab1-2288-447a-9945-397b9ffefbf8",
   "metadata": {},
   "outputs": [
    {
     "name": "stdout",
     "output_type": "stream",
     "text": [
      "Common functions:\n",
      "tensor([[0.4118, 0.1860, 0.4834, 0.0798],\n",
      "        [0.6911, 0.9416, 0.0278, 0.8633]])\n",
      "tensor([[-0., -0., -0., 1.],\n",
      "        [1., -0., -0., -0.]])\n",
      "tensor([[-1., -1., -1.,  0.],\n",
      "        [ 0., -1., -1., -1.]])\n",
      "tensor([[-0.4118, -0.1860, -0.4834,  0.0798],\n",
      "        [ 0.5000, -0.5000, -0.0278, -0.5000]])\n"
     ]
    }
   ],
   "source": [
    "import torch\n",
    "\n",
    "a =torch.rand(2,4) *2-1\n",
    "print('Common functions:')\n",
    "print(torch.abs(a)) #절댓값\n",
    "print(torch.ceil(a)) #올림값\n",
    "print(torch.floor(a)) #내림값\n",
    "print(torch.clamp(a, -0.5, 0.5)) #범위지정"
   ]
  },
  {
   "cell_type": "code",
   "execution_count": 21,
   "id": "bd392883-5fa0-47f9-8bce-8bceaf78b6ab",
   "metadata": {},
   "outputs": [
    {
     "name": "stdout",
     "output_type": "stream",
     "text": [
      "\n",
      "Sine and arcsine:\n",
      "tensor([0.0000, 0.7854, 1.5708, 2.3562])\n",
      "tensor([0.0000, 0.7071, 1.0000, 0.7071])\n",
      "tensor([0.0000, 0.7854, 1.5708, 0.7854])\n"
     ]
    }
   ],
   "source": [
    "#삼각함수 텐서\n",
    "import torch\n",
    "import math\n",
    "\n",
    "angles =torch.tensor([0, math.pi/4, math.pi/2, 3*math.pi/4])\n",
    "sines =torch.sin(angles)\n",
    "inverses =torch.asin(sines)\n",
    "print('\\nSine and arcsine:')\n",
    "print(angles)\n",
    "print(sines)\n",
    "print(inverses)"
   ]
  },
  {
   "cell_type": "code",
   "execution_count": 23,
   "id": "7abf3af7-db69-4b40-9749-82ed6456e6b7",
   "metadata": {},
   "outputs": [
    {
     "name": "stdout",
     "output_type": "stream",
     "text": [
      "\n",
      "Bitwise XOR:\n",
      "tensor([3, 2, 1])\n"
     ]
    }
   ],
   "source": [
    "#비트 연산자\n",
    "import torch\n",
    "\n",
    "print('\\nBitwise XOR:')\n",
    "a =torch.tensor([1,5,11])\n",
    "b =torch.tensor([2,7,10])\n",
    "print(torch.bitwise_xor(a,b))"
   ]
  },
  {
   "cell_type": "code",
   "execution_count": 29,
   "id": "5b26d245-6942-45c3-a79a-ec174a9f5c46",
   "metadata": {},
   "outputs": [
    {
     "name": "stdout",
     "output_type": "stream",
     "text": [
      "\n",
      "Reduction ops:\n",
      "tensor(4.)\n",
      "4.0\n",
      "tensor(2.5000)\n",
      "tensor(1.2910)\n",
      "tensor(24.)\n",
      "tensor([1, 2])\n"
     ]
    }
   ],
   "source": [
    "#tensor Reductions\n",
    "import torch\n",
    "\n",
    "a =torch.tensor([[1.,2.],[3.,4.]])\n",
    "\n",
    "print('\\nReduction ops:')\n",
    "print(torch.max(a)) #최고값\n",
    "print(torch.max(a).item()) #벡터의 구성요소를 반환\n",
    "print(torch.mean(a)) #평균\n",
    "print(torch.std(a)) #평균 편차\n",
    "print(torch.prod(a)) #벡터 연산 (내정)\n",
    "print(torch.unique(torch.tensor([1,2,1,2,1,2,]))) #유일값 반환"
   ]
  },
  {
   "cell_type": "code",
   "execution_count": 39,
   "id": "f53f1711-9e12-43f2-83f5-3a24bdc57f7f",
   "metadata": {},
   "outputs": [
    {
     "name": "stdout",
     "output_type": "stream",
     "text": [
      "\n",
      " Vectors & Matrices:\n",
      "tensor([ 0.,  0., -1.])\n",
      "tensor([[0.8819, 0.6753],\n",
      "        [0.8480, 0.2776]])\n",
      "tensor([[2.6457, 2.0259],\n",
      "        [2.5441, 0.8328]])\n",
      "torch.return_types.linalg_svd(\n",
      "U=tensor([[-0.7835, -0.6214],\n",
      "        [-0.6214,  0.7835]]),\n",
      "S=tensor([4.2167, 0.6998]),\n",
      "Vh=tensor([[-0.8665, -0.4992],\n",
      "        [ 0.4992, -0.8665]]))\n"
     ]
    }
   ],
   "source": [
    "import torch\n",
    "\n",
    "v1 =torch.tensor([1.,0.,0.])\n",
    "v2 =torch.tensor([0.,1.,0.])\n",
    "m1 =torch.rand(2,2)\n",
    "m2 =torch.tensor([[3.,0.],[0.,3.]])\n",
    "\n",
    "print('\\n Vectors & Matrices:')\n",
    "print(torch.linalg.cross(v2, v1))\n",
    "print(m1)\n",
    "m3 =torch.linalg.matmul(m1,m2)\n",
    "print(m3)\n",
    "print(torch.linalg.svd(m3))"
   ]
  },
  {
   "cell_type": "code",
   "execution_count": null,
   "id": "59463127-b6f2-4583-99b1-7c2caff95d5a",
   "metadata": {},
   "outputs": [],
   "source": []
  }
 ],
 "metadata": {
  "kernelspec": {
   "display_name": "Python [conda env:base] *",
   "language": "python",
   "name": "conda-base-py"
  },
  "language_info": {
   "codemirror_mode": {
    "name": "ipython",
    "version": 3
   },
   "file_extension": ".py",
   "mimetype": "text/x-python",
   "name": "python",
   "nbconvert_exporter": "python",
   "pygments_lexer": "ipython3",
   "version": "3.12.7"
  }
 },
 "nbformat": 4,
 "nbformat_minor": 5
}
