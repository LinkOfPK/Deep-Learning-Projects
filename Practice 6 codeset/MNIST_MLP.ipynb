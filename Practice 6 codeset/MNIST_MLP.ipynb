{
 "cells": [
  {
   "cell_type": "code",
   "execution_count": 2,
   "id": "14010624-eb89-44de-9fb1-39aad09f8076",
   "metadata": {},
   "outputs": [],
   "source": [
    "# Import dependencies\n",
    "import torch\n",
    "import torch.nn as nn\n",
    "import torch.nn.functional as F\n",
    "from torchvision import transforms, datasets\n",
    "\n",
    "import numpy as np\n",
    "from tqdm import tqdm\n",
    "import matplotlib.pyplot as plt\n",
    "\n",
    "# pytorch 및 MNIST 관련 라이브러리들을 불러옴\n",
    "# 학습에 필요한 데이터 셋, 신경망 모듈, 손실 함수 등을 사용하기 위함"
   ]
  },
  {
   "cell_type": "code",
   "execution_count": 3,
   "id": "00411f67-54e4-4ca8-953c-c05282dfc9ca",
   "metadata": {},
   "outputs": [],
   "source": [
    "# Set processing unit\n",
    "device = 'cuda:0' if torch.cuda.is_available() else 'cpu'\n",
    "\n",
    "# MNIST 데이터셋을 불러옴\n",
    "# 학습용과 테스트용 데이터를 각각 로드, 이미지를 tensor 형식으로 변환"
   ]
  },
  {
   "cell_type": "code",
   "execution_count": 4,
   "id": "01bfa9e9-94e8-42de-8543-13b918ed7bb2",
   "metadata": {},
   "outputs": [],
   "source": [
    "# Set seeds of random variables\n",
    "torch.manual_seed(777)\n",
    "if device == 'cuda:0':\n",
    "    torch.cuda.manual_seed_all(777)\n",
    "\n",
    "# 데이터 로더 생성\n",
    "# 배치 단위로 데이터를 불러오고 셔플 여부를 설정 "
   ]
  },
  {
   "cell_type": "code",
   "execution_count": 25,
   "id": "4deeab0d-0947-4055-9a00-a067f5edc8af",
   "metadata": {},
   "outputs": [],
   "source": [
    "# Model training settings\n",
    "batch_size = 32\n",
    "n_epochs = 20\n",
    "lr = 0.01 # learning rate\n",
    "momentum = 0.5\n",
    "\n",
    "# 다층 퍼셉트론(MLP) 모델 클래스를 정의\n",
    "# 총 3개의 liner 계층과 ReLU 활성화 함수로 구"
   ]
  },
  {
   "cell_type": "code",
   "execution_count": 27,
   "id": "53270040-451a-4ea2-bc45-4d763811dae5",
   "metadata": {},
   "outputs": [],
   "source": [
    "# MNIST dataset preparation\n",
    "train_dataset = datasets.MNIST(root='./data/MNIST', train=True, download=True, transform=transforms.ToTensor())\n",
    "test_dataset = datasets.MNIST(root='./data/MNIST', train=False, download=True, transform=transforms.ToTensor())\n",
    "\n",
    "# Load MNIST feeder\n",
    "train_loader = torch.utils.data.DataLoader(dataset=train_dataset, batch_size=batch_size, shuffle=True)\n",
    "test_loader = torch.utils.data.DataLoader(dataset=test_dataset, batch_size=batch_size, shuffle=False)\n",
    "\n",
    "# 모델 객체 생성\n",
    "# 크로스 엔트로피 손실 함수와 Adam 옵티마이저 설"
   ]
  },
  {
   "cell_type": "code",
   "execution_count": 29,
   "id": "0b093644-90d0-486b-b2d6-72bb7762f073",
   "metadata": {},
   "outputs": [
    {
     "name": "stdout",
     "output_type": "stream",
     "text": [
      "X_train: torch.Size([32, 1, 28, 28]), type: <built-in method type of Tensor object at 0x0000028DB4A79270>\n",
      "y_train: torch.Size([32]), type: <built-in method type of Tensor object at 0x0000028DB4A79E00>\n"
     ]
    },
    {
     "data": {
      "image/png": "[encoded data removed]",
      "text/plain": [
       "<Figure size 1000x100 with 10 Axes>"
      ]
     },
     "metadata": {},
     "output_type": "display_data"
    }
   ],
   "source": [
    "# Check MNIST dataset\n",
    "for (X_train, y_train) in train_loader:\n",
    "    print('X_train: {}, type: {}'.format(X_train.size(), X_train.type))\n",
    "    print('y_train: {}, type: {}'.format(y_train.size(), y_train.type))\n",
    "    break\n",
    "\n",
    "plt.figure(figsize=(10, 1))\n",
    "for i in range(10):\n",
    "    plt.subplot(1, 10, i + 1)\n",
    "    plt.axis('off')\n",
    "    plt.imshow(X_train[i, :, :, :].numpy().reshape(28, 28), cmap='gray_r')\n",
    "    plt.title('Class: {}'.format(str(y_train[i].item())))\n",
    "plt.show()\n",
    "\n",
    "# 본격적인 학습 루프\n",
    "# 에포크를 돌며 각 배치에서 예측값을 구하고 손실을 계산, 역전파 backpropagation으로 파라미터 업데이"
   ]
  },
  {
   "cell_type": "code",
   "execution_count": 8,
   "id": "6748da45-bd40-44a2-90cf-901631710246",
   "metadata": {},
   "outputs": [],
   "source": [
    "# Define network architecture\n",
    "class MultiLayerPerceptron(nn.Module):\n",
    "    def __init__(self):\n",
    "        super(MultiLayerPerceptron, self).__init__()\n",
    "        self.fc1 = nn.Linear(28 * 28, 512) # (N, 784, 512), N - batch_size\n",
    "        self.fc2 = nn.Linear(512, 256)\n",
    "        self.fc3 = nn.Linear(256, 10)\n",
    "\n",
    "    def forward(self, x): # Forward propagation\n",
    "        x = x.view(-1, 28 * 28) # (N, 28, 28) -> (N, 784)\n",
    "        output = self.fc1(x) # (N, 784) -> (N, 512)\n",
    "        output = F.sigmoid(output)\n",
    "        output = self.fc2(output) # (N, 512) -> (512, 256)\n",
    "        output = F.sigmoid(output)\n",
    "        output = self.fc3(output) # (N, 256) -> (N, 10)\n",
    "        output = F.log_softmax(output, dim=1) # 256 logits -> probability distribution (10 classes)\n",
    "        return output       \n",
    "\n",
    "# 학습이 끝난 후 테스트 데이터셋을 사용해서 모델의 정확도 평"
   ]
  },
  {
   "cell_type": "code",
   "execution_count": 9,
   "id": "9a017557-89c9-4f00-adab-6502b5047c9d",
   "metadata": {},
   "outputs": [],
   "source": [
    "# Prepare model training\n",
    "model = MultiLayerPerceptron().to(device)\n",
    "criterion = nn.CrossEntropyLoss()\n",
    "optimizer = torch.optim.SGD(model.parameters(), lr=lr, momentum=momentum)\n",
    "\n",
    "# 개별 테스트 이미지에 대한 예측 결과를 시각화 하기 위한 atplotlib 사용 드"
   ]
  },
  {
   "cell_type": "code",
   "execution_count": 10,
   "id": "d6931a37-5860-453d-89ae-a4aca22424a8",
   "metadata": {},
   "outputs": [],
   "source": [
    "# Train the model\n",
    "def train(model, train_loader, optimizer, log_interval=5):\n",
    "    model.train()\n",
    "    for idx, (x, y) in tqdm(enumerate(train_loader)):\n",
    "        x = x.to(device)\n",
    "        y = y.to(device)\n",
    "        output = model(x)\n",
    "        loss = criterion(output, y)\n",
    "\n",
    "        optimizer.zero_grad()\n",
    "        loss.backward()\n",
    "        optimizer.step()\n",
    "\n",
    "        if (idx + 1) % log_interval == 0:\n",
    "            print('Train epoch: [{}/{} ({:.2f}%)]\\tTrain Loss: {:.6f}'.format(idx * len(x), len(train_loader.dataset), 100. * idx / len(train_loader), loss.item()))\n",
    "\n",
    "# 앞서 정의한 시각화 함수 imshow를 활용해 테스트 이미지 하나와 그 예측 결과를 출"
   ]
  },
  {
   "cell_type": "code",
   "execution_count": 11,
   "id": "eee3ad3a-7fb6-45e8-852e-0893389b4488",
   "metadata": {},
   "outputs": [],
   "source": [
    "# Evaluate the model\n",
    "def evaluate(model, test_loader):\n",
    "    model.eval()\n",
    "    test_loss = .0\n",
    "    correct = 0\n",
    "\n",
    "    with torch.no_grad():\n",
    "        for x, y in tqdm(test_loader):\n",
    "            x = x.to(device)\n",
    "            y = y.to(device)\n",
    "            output = model(x)\n",
    "            test_loss += criterion(output, y).item()\n",
    "            prediction = output.max(1, keepdim=True)[1]\n",
    "            correct += prediction.eq(y.view_as(prediction)).sum().item()\n",
    "\n",
    "    test_loss /= len(test_loader.dataset) / batch_size\n",
    "    accuracy = 100. * correct / len(test_loader.dataset)\n",
    "    return test_loss, accuracy\n",
    "\n",
    "# 전체 테스트셋에 대해 예측값과 정답을 비교, 클래스별로 정확도를 계"
   ]
  },
  {
   "cell_type": "code",
   "execution_count": 12,
   "id": "b6174a4d-66ae-41c8-ac5e-1492d6dfd344",
   "metadata": {},
   "outputs": [
    {
     "name": "stderr",
     "output_type": "stream",
     "text": [
      "1875it [00:10, 185.89it/s]\n",
      "100%|███████████████████████████████████████████████████████████████████████████████| 313/313 [00:01<00:00, 238.38it/s]\n"
     ]
    },
    {
     "name": "stdout",
     "output_type": "stream",
     "text": [
      "\n",
      "[Epoch: 0], \tTest Loss: 2.2360,\tAccuracy: 22.96 %\n",
      "\n"
     ]
    },
    {
     "name": "stderr",
     "output_type": "stream",
     "text": [
      "1875it [00:09, 188.96it/s]\n",
      "100%|███████████████████████████████████████████████████████████████████████████████| 313/313 [00:01<00:00, 238.59it/s]\n"
     ]
    },
    {
     "name": "stdout",
     "output_type": "stream",
     "text": [
      "\n",
      "[Epoch: 1], \tTest Loss: 1.2072,\tAccuracy: 67.09 %\n",
      "\n"
     ]
    },
    {
     "name": "stderr",
     "output_type": "stream",
     "text": [
      "1875it [00:10, 180.79it/s]\n",
      "100%|███████████████████████████████████████████████████████████████████████████████| 313/313 [00:01<00:00, 216.59it/s]\n"
     ]
    },
    {
     "name": "stdout",
     "output_type": "stream",
     "text": [
      "\n",
      "[Epoch: 2], \tTest Loss: 0.7357,\tAccuracy: 78.35 %\n",
      "\n"
     ]
    },
    {
     "name": "stderr",
     "output_type": "stream",
     "text": [
      "1875it [00:11, 161.18it/s]\n",
      "100%|███████████████████████████████████████████████████████████████████████████████| 313/313 [00:01<00:00, 226.54it/s]\n"
     ]
    },
    {
     "name": "stdout",
     "output_type": "stream",
     "text": [
      "\n",
      "[Epoch: 3], \tTest Loss: 0.5486,\tAccuracy: 84.19 %\n",
      "\n"
     ]
    },
    {
     "name": "stderr",
     "output_type": "stream",
     "text": [
      "1875it [00:10, 179.51it/s]\n",
      "100%|███████████████████████████████████████████████████████████████████████████████| 313/313 [00:01<00:00, 216.15it/s]\n"
     ]
    },
    {
     "name": "stdout",
     "output_type": "stream",
     "text": [
      "\n",
      "[Epoch: 4], \tTest Loss: 0.4513,\tAccuracy: 86.90 %\n",
      "\n"
     ]
    },
    {
     "name": "stderr",
     "output_type": "stream",
     "text": [
      "1875it [00:10, 185.40it/s]\n",
      "100%|███████████████████████████████████████████████████████████████████████████████| 313/313 [00:01<00:00, 247.71it/s]\n"
     ]
    },
    {
     "name": "stdout",
     "output_type": "stream",
     "text": [
      "\n",
      "[Epoch: 5], \tTest Loss: 0.4004,\tAccuracy: 88.47 %\n",
      "\n"
     ]
    },
    {
     "name": "stderr",
     "output_type": "stream",
     "text": [
      "1875it [00:09, 197.54it/s]\n",
      "100%|███████████████████████████████████████████████████████████████████████████████| 313/313 [00:01<00:00, 243.91it/s]\n"
     ]
    },
    {
     "name": "stdout",
     "output_type": "stream",
     "text": [
      "\n",
      "[Epoch: 6], \tTest Loss: 0.3747,\tAccuracy: 89.09 %\n",
      "\n"
     ]
    },
    {
     "name": "stderr",
     "output_type": "stream",
     "text": [
      "1875it [00:09, 189.91it/s]\n",
      "100%|███████████████████████████████████████████████████████████████████████████████| 313/313 [00:01<00:00, 240.98it/s]\n"
     ]
    },
    {
     "name": "stdout",
     "output_type": "stream",
     "text": [
      "\n",
      "[Epoch: 7], \tTest Loss: 0.3605,\tAccuracy: 89.59 %\n",
      "\n"
     ]
    },
    {
     "name": "stderr",
     "output_type": "stream",
     "text": [
      "1875it [00:09, 188.62it/s]\n",
      "100%|███████████████████████████████████████████████████████████████████████████████| 313/313 [00:01<00:00, 244.48it/s]\n"
     ]
    },
    {
     "name": "stdout",
     "output_type": "stream",
     "text": [
      "\n",
      "[Epoch: 8], \tTest Loss: 0.3454,\tAccuracy: 90.02 %\n",
      "\n"
     ]
    },
    {
     "name": "stderr",
     "output_type": "stream",
     "text": [
      "1875it [00:10, 184.70it/s]\n",
      "100%|███████████████████████████████████████████████████████████████████████████████| 313/313 [00:01<00:00, 239.39it/s]\n"
     ]
    },
    {
     "name": "stdout",
     "output_type": "stream",
     "text": [
      "\n",
      "[Epoch: 9], \tTest Loss: 0.3337,\tAccuracy: 90.42 %\n",
      "\n"
     ]
    },
    {
     "name": "stderr",
     "output_type": "stream",
     "text": [
      "1875it [00:09, 190.20it/s]\n",
      "100%|███████████████████████████████████████████████████████████████████████████████| 313/313 [00:01<00:00, 242.71it/s]\n"
     ]
    },
    {
     "name": "stdout",
     "output_type": "stream",
     "text": [
      "\n",
      "[Epoch: 10], \tTest Loss: 0.3267,\tAccuracy: 90.52 %\n",
      "\n"
     ]
    },
    {
     "name": "stderr",
     "output_type": "stream",
     "text": [
      "1875it [00:09, 190.28it/s]\n",
      "100%|███████████████████████████████████████████████████████████████████████████████| 313/313 [00:01<00:00, 246.18it/s]\n"
     ]
    },
    {
     "name": "stdout",
     "output_type": "stream",
     "text": [
      "\n",
      "[Epoch: 11], \tTest Loss: 0.3168,\tAccuracy: 90.92 %\n",
      "\n"
     ]
    },
    {
     "name": "stderr",
     "output_type": "stream",
     "text": [
      "1875it [00:09, 188.17it/s]\n",
      "100%|███████████████████████████████████████████████████████████████████████████████| 313/313 [00:01<00:00, 242.23it/s]\n"
     ]
    },
    {
     "name": "stdout",
     "output_type": "stream",
     "text": [
      "\n",
      "[Epoch: 12], \tTest Loss: 0.3118,\tAccuracy: 91.13 %\n",
      "\n"
     ]
    },
    {
     "name": "stderr",
     "output_type": "stream",
     "text": [
      "1875it [00:09, 190.04it/s]\n",
      "100%|███████████████████████████████████████████████████████████████████████████████| 313/313 [00:01<00:00, 236.51it/s]\n"
     ]
    },
    {
     "name": "stdout",
     "output_type": "stream",
     "text": [
      "\n",
      "[Epoch: 13], \tTest Loss: 0.3077,\tAccuracy: 91.19 %\n",
      "\n"
     ]
    },
    {
     "name": "stderr",
     "output_type": "stream",
     "text": [
      "1875it [00:09, 190.32it/s]\n",
      "100%|███████████████████████████████████████████████████████████████████████████████| 313/313 [00:01<00:00, 237.91it/s]\n"
     ]
    },
    {
     "name": "stdout",
     "output_type": "stream",
     "text": [
      "\n",
      "[Epoch: 14], \tTest Loss: 0.2958,\tAccuracy: 91.42 %\n",
      "\n"
     ]
    },
    {
     "name": "stderr",
     "output_type": "stream",
     "text": [
      "1875it [00:10, 186.64it/s]\n",
      "100%|███████████████████████████████████████████████████████████████████████████████| 313/313 [00:01<00:00, 234.85it/s]\n"
     ]
    },
    {
     "name": "stdout",
     "output_type": "stream",
     "text": [
      "\n",
      "[Epoch: 15], \tTest Loss: 0.2962,\tAccuracy: 91.52 %\n",
      "\n"
     ]
    },
    {
     "name": "stderr",
     "output_type": "stream",
     "text": [
      "1875it [00:09, 189.68it/s]\n",
      "100%|███████████████████████████████████████████████████████████████████████████████| 313/313 [00:01<00:00, 238.67it/s]\n"
     ]
    },
    {
     "name": "stdout",
     "output_type": "stream",
     "text": [
      "\n",
      "[Epoch: 16], \tTest Loss: 0.2853,\tAccuracy: 91.78 %\n",
      "\n"
     ]
    },
    {
     "name": "stderr",
     "output_type": "stream",
     "text": [
      "1875it [00:10, 181.67it/s]\n",
      "100%|███████████████████████████████████████████████████████████████████████████████| 313/313 [00:01<00:00, 241.96it/s]\n"
     ]
    },
    {
     "name": "stdout",
     "output_type": "stream",
     "text": [
      "\n",
      "[Epoch: 17], \tTest Loss: 0.2789,\tAccuracy: 92.03 %\n",
      "\n"
     ]
    },
    {
     "name": "stderr",
     "output_type": "stream",
     "text": [
      "1875it [00:11, 160.72it/s]\n",
      "100%|███████████████████████████████████████████████████████████████████████████████| 313/313 [00:01<00:00, 234.58it/s]\n"
     ]
    },
    {
     "name": "stdout",
     "output_type": "stream",
     "text": [
      "\n",
      "[Epoch: 18], \tTest Loss: 0.2770,\tAccuracy: 92.11 %\n",
      "\n"
     ]
    },
    {
     "name": "stderr",
     "output_type": "stream",
     "text": [
      "1875it [00:10, 185.49it/s]\n",
      "100%|███████████████████████████████████████████████████████████████████████████████| 313/313 [00:01<00:00, 228.09it/s]"
     ]
    },
    {
     "name": "stdout",
     "output_type": "stream",
     "text": [
      "\n",
      "[Epoch: 19], \tTest Loss: 0.2677,\tAccuracy: 92.18 %\n",
      "\n"
     ]
    },
    {
     "name": "stderr",
     "output_type": "stream",
     "text": [
      "\n"
     ]
    }
   ],
   "source": [
    "for epoch in range(n_epochs):\n",
    "    train(model, train_loader, optimizer, log_interval=10000)\n",
    "    test_loss, accuracy = evaluate(model, test_loader)\n",
    "    print(\"\\n[Epoch: {}], \\tTest Loss: {:.4f},\\tAccuracy: {:.2f} %\\n\".format(epoch, test_loss, accuracy))\n",
    "\n",
    "# 예측 결과를 confusion matrix로 시각화 해서 어떤 숫자에서 오류가 많이 나는지를 확인"
   ]
  },
  {
   "cell_type": "code",
   "execution_count": null,
   "id": "bd33cf61-8219-41ec-9297-0af4bf14ab16",
   "metadata": {},
   "outputs": [],
   "source": [
    "# 📌 1. 학습률 증가의 본질: 오차역전파 + 가중치 갱신\n",
    "\n",
    "# 매 에포크마다 모델은 다음을 반복합니다:\n",
    "\n",
    "# 순전파 (Forward Propagation)\n",
    "# → 입력 이미지가 모델을 통과하며 예측값 생성\n",
    "\n",
    "# 손실 계산 (Loss Calculation)\n",
    "# → 예측값과 정답 간의 차이를 손실 함수로 계산\n",
    "\n",
    "# 역전파 (Backpropagation)\n",
    "# → 손실을 기준으로 각 가중치가 얼마나 영향을 미쳤는지를 계산 (미분)\n",
    "\n",
    "# 가중치 갱신 (Weight Update)\n",
    "# → 계산된 그라디언트를 바탕으로 optimizer.step()을 통해 가중치 조정\n",
    "\n",
    "# 이 과정을 반복할수록 모델은 점점 더 나은 가중치 조합을 찾아가기 때문에, 이전보다 더 정확하게 숫자를 분류하게 됩니다.\n"
   ]
  },
  {
   "cell_type": "code",
   "execution_count": null,
   "id": "070f9b4c-8039-486c-b837-96acff44ec74",
   "metadata": {},
   "outputs": [],
   "source": [
    "# 📌 2. 매번 조금씩만 상승하는 이유\n",
    "# 랜덤 초기값 + 미세한 학습률:\n",
    "# 학습률(learning rate)이 너무 크면 오히려 튀는 결과를 낼 수 있어 일반적으로 작게 설정합니다 (0.001 등). 그래서 가중치 변화 폭이 작고, 매 에포크마다 조금씩만 좋아집니다.\n",
    "\n",
    "# 모델이 이미 쉽게 맞추는 것들은 반복학습에 큰 영향을 주지 않음:\n",
    "# 예를 들어 ‘0’이나 ‘1’ 같은 잘 구분되는 숫자는 초기에 잘 맞추지만, ‘3’과 ‘5’, ‘8’과 ‘9’ 같은 비슷한 이미지는 반복학습을 통해 천천히 구별되기 시작합니다.\n",
    "\n",
    "# 로컬 미니멈/평탄한 구간:\n",
    "# 손실 함수 지형이 복잡할 수 있어서, 모델이 천천히 고점에서 내려오거나 평탄한 구간에서 조금씩만 손실을 줄이게 됩니다."
   ]
  },
  {
   "cell_type": "code",
   "execution_count": null,
   "id": "eaa197ab-e884-4f2e-9740-3aae409123e8",
   "metadata": {},
   "outputs": [],
   "source": [
    "# 📌 3. 더 빠르게 오르도록 하려면?\n",
    "# 더 깊은 신경망(CNN 등)\n",
    "# MLP는 입력 전체를 펼쳐서 학습하므로 공간 정보(위치, 구조)를 잃습니다. CNN은 이 정보를 보존하면서 학습하기 때문에 정확도가 훨씬 빠르게 오르고, 더 높게 도달할 수 있습니다.\n",
    "\n",
    "# 데이터 전처리 향상\n",
    "# 정규화(Normalization)나 Data Augmentation(회전, 뒤집기 등)이 적용되면 학습 속도와 정확도가 좋아질 수 있습니다.\n",
    "\n",
    "# 적절한 하이퍼파라미터 조정\n",
    "# 예를 들어 학습률이나 배치 크기를 조절하거나, 옵티마이저를 SGD → Adam으로 바꾸는 것만으로도 학습 속도가 달라질 수 있습니다."
   ]
  },
  {
   "cell_type": "code",
   "execution_count": null,
   "id": "4bedcdcf-de42-411f-bea9-84be804a517d",
   "metadata": {},
   "outputs": [],
   "source": [
    "# ✅ 요약\n",
    "# 학습 정확도가 점차 상승하는 이유는, 오차역전파와 그라디언트 하강법을 통해 모델이 점차 더 나은 가중치를 찾기 때문이며, 소폭씩 증가하는 이유는 학습률, 손실 지형, 난이도 높은 샘플 등에 기인합니다."
   ]
  }
 ],
 "metadata": {
  "kernelspec": {
   "display_name": "Python [conda env:base] *",
   "language": "python",
   "name": "conda-base-py"
  },
  "language_info": {
   "codemirror_mode": {
    "name": "ipython",
    "version": 3
   },
   "file_extension": ".py",
   "mimetype": "text/x-python",
   "name": "python",
   "nbconvert_exporter": "python",
   "pygments_lexer": "ipython3",
   "version": "3.12.7"
  }
 },
 "nbformat": 4,
 "nbformat_minor": 5
}
