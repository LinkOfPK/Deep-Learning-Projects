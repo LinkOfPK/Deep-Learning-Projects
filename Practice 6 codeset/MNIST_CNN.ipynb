{
 "cells": [
  {
   "cell_type": "code",
   "execution_count": 3,
   "id": "ca6717a3-4bd8-474d-a988-203ca8bbc6c6",
   "metadata": {},
   "outputs": [],
   "source": [
    "# Import dependencies\n",
    "import torch\n",
    "import torch.nn as nn\n",
    "import torch.nn.functional as F\n",
    "from torchvision import transforms, datasets\n",
    "\n",
    "import numpy as np\n",
    "from tqdm import tqdm\n",
    "import matplotlib.pyplot as plt\n"
   ]
  },
  {
   "cell_type": "code",
   "execution_count": 4,
   "id": "959579fd-50bb-4f20-99ba-d4d34820611f",
   "metadata": {},
   "outputs": [],
   "source": [
    "# Set processing unit\n",
    "device = 'cuda:0' if torch.cuda.is_available() else 'cpu'\n"
   ]
  },
  {
   "cell_type": "code",
   "execution_count": 5,
   "id": "468e7644-8047-4ba7-921f-63ba70797e0d",
   "metadata": {},
   "outputs": [],
   "source": [
    "# Set seeds of random variables\n",
    "torch.manual_seed(777)\n",
    "if device == 'cuda:0':\n",
    "    torch.cuda.manual_seed_all(777)\n"
   ]
  },
  {
   "cell_type": "code",
   "execution_count": 6,
   "id": "fa595f84-3e9f-4350-88b9-ba55caf39d14",
   "metadata": {},
   "outputs": [],
   "source": [
    "# Model training settings\n",
    "batch_size = 32\n",
    "n_epochs = 20\n",
    "lr = 0.01 # learning rate"
   ]
  },
  {
   "cell_type": "code",
   "execution_count": 7,
   "id": "0ed4c468-e7f8-4460-ad44-a0881978fbd1",
   "metadata": {},
   "outputs": [
    {
     "name": "stderr",
     "output_type": "stream",
     "text": [
      "100%|█████████████████████████████████████████████████████████████████████████████| 9.91M/9.91M [00:09<00:00, 1.06MB/s]\n",
      "100%|██████████████████████████████████████████████████████████████████████████████| 28.9k/28.9k [00:00<00:00, 148kB/s]\n",
      "100%|█████████████████████████████████████████████████████████████████████████████| 1.65M/1.65M [00:01<00:00, 1.14MB/s]\n",
      "100%|█████████████████████████████████████████████████████████████████████████████████████| 4.54k/4.54k [00:00<?, ?B/s]\n"
     ]
    }
   ],
   "source": [
    "# MNIST dataset preparation\n",
    "train_dataset = datasets.MNIST(root='./data/MNIST', train=True, download=True, transform=transforms.ToTensor())\n",
    "test_dataset = datasets.MNIST(root='./data/MNIST', train=False, download=True, transform=transforms.ToTensor())\n",
    "\n",
    "# Load MNIST feeder\n",
    "train_loader = torch.utils.data.DataLoader(dataset=train_dataset, batch_size=batch_size, shuffle=True)\n",
    "test_loader = torch.utils.data.DataLoader(dataset=test_dataset, batch_size=batch_size, shuffle=False)"
   ]
  },
  {
   "cell_type": "code",
   "execution_count": 8,
   "id": "c24473c0-29bc-491e-bfc9-af3bcb138f25",
   "metadata": {},
   "outputs": [],
   "source": [
    "class CNN(nn.Module):\n",
    "    def __init__(self):\n",
    "        super(CNN, self).__init__()\n",
    "        self.conv1 = nn.Sequential(\n",
    "            nn.Conv2d(\n",
    "                in_channels = 1,\n",
    "                out_channels = 16,\n",
    "                kernel_size = 5,\n",
    "                stride = 1,\n",
    "                padding = 2\n",
    "            ),\n",
    "            nn.ReLU(),\n",
    "            nn.MaxPool2d(2)\n",
    "        )\n",
    "        self.conv2 = nn.Sequential(\n",
    "            nn.Conv2d(16, 32, 5, 1, 2),\n",
    "            nn.ReLU(),\n",
    "            nn.MaxPool2d(2)\n",
    "        )\n",
    "        self.fc = nn.Linear(32 * 7 * 7, 10)\n",
    "\n",
    "    def forward(self, x):\n",
    "        feature = self.conv1(x) # (N, 28, 28, 1) -> (N, 14, 14, 16)\n",
    "        feature = self.conv2(feature) # (N, 14, 14, 16) -> (N, 7, 7, 32)\n",
    "        feature = feature.view(feature.size(0), -1) # (N, 7, 7, 32) -> (N, 7 * 7 * 32)\n",
    "        output = self.fc(feature) # (N, 7 * 7 * 32) -> (N, 10)\n",
    "        return output, feature"
   ]
  },
  {
   "cell_type": "code",
   "execution_count": 9,
   "id": "1cb6baf5-ed77-4c06-9bae-7f8716288bf5",
   "metadata": {},
   "outputs": [],
   "source": [
    "# Prepare model training\n",
    "model = CNN().to(device)\n",
    "criterion = nn.CrossEntropyLoss()\n",
    "optimizer = torch.optim.Adam(model.parameters(), lr=lr)"
   ]
  },
  {
   "cell_type": "code",
   "execution_count": 10,
   "id": "67aaa98d-350a-492d-95a0-f6ef7d959e57",
   "metadata": {},
   "outputs": [
    {
     "name": "stdout",
     "output_type": "stream",
     "text": [
      "CNN(\n",
      "  (conv1): Sequential(\n",
      "    (0): Conv2d(1, 16, kernel_size=(5, 5), stride=(1, 1), padding=(2, 2))\n",
      "    (1): ReLU()\n",
      "    (2): MaxPool2d(kernel_size=2, stride=2, padding=0, dilation=1, ceil_mode=False)\n",
      "  )\n",
      "  (conv2): Sequential(\n",
      "    (0): Conv2d(16, 32, kernel_size=(5, 5), stride=(1, 1), padding=(2, 2))\n",
      "    (1): ReLU()\n",
      "    (2): MaxPool2d(kernel_size=2, stride=2, padding=0, dilation=1, ceil_mode=False)\n",
      "  )\n",
      "  (fc): Linear(in_features=1568, out_features=10, bias=True)\n",
      ")\n"
     ]
    }
   ],
   "source": [
    "# Visualize the network architecture of a model\n",
    "print(model)"
   ]
  },
  {
   "cell_type": "code",
   "execution_count": 11,
   "id": "3796e5c4-f6de-41ce-a4ad-7e5307a31f17",
   "metadata": {},
   "outputs": [],
   "source": [
    "# Train the model\n",
    "def train(model, train_loader, optimizer, log_interval=5):\n",
    "    model.train()\n",
    "    for idx, (x, y) in tqdm(enumerate(train_loader)):\n",
    "        x = x.to(device)\n",
    "        y = y.to(device)\n",
    "        output, _ = model(x)\n",
    "        loss = criterion(output, y)\n",
    "\n",
    "        optimizer.zero_grad()\n",
    "        loss.backward()\n",
    "        optimizer.step()\n",
    "\n",
    "        if (idx + 1) % log_interval == 0:\n",
    "            print('Train epoch: [{}/{} ({:.2f}%)]\\tTrain Loss: {:.6f}'.format(idx * len(x), len(train_loader.dataset), 100. * idx / len(train_loader), loss.item()))"
   ]
  },
  {
   "cell_type": "code",
   "execution_count": 12,
   "id": "c64f7edf-cf45-40e6-83d0-b9866f16d257",
   "metadata": {},
   "outputs": [],
   "source": [
    "# Evaluate the model\n",
    "def evaluate(model, test_loader):\n",
    "    model.eval()\n",
    "    test_loss = .0\n",
    "    correct = 0\n",
    "\n",
    "    with torch.no_grad():\n",
    "        for x, y in tqdm(test_loader):\n",
    "            x = x.to(device)\n",
    "            y = y.to(device)\n",
    "            output, feature = model(x)\n",
    "            test_loss += criterion(output, y).item()\n",
    "            prediction = output.max(1, keepdim=True)[1]\n",
    "            correct += prediction.eq(y.view_as(prediction)).sum().item()\n",
    "\n",
    "    test_loss /= len(test_loader.dataset) / batch_size\n",
    "    accuracy = 100. * correct / len(test_loader.dataset)\n",
    "    return test_loss, accuracy"
   ]
  },
  {
   "cell_type": "code",
   "execution_count": 13,
   "id": "b4c6fd0f-6818-4f54-97c7-961b12f59299",
   "metadata": {},
   "outputs": [
    {
     "name": "stderr",
     "output_type": "stream",
     "text": [
      "1875it [00:18, 99.31it/s] \n",
      "100%|███████████████████████████████████████████████████████████████████████████████| 313/313 [00:01<00:00, 170.68it/s]\n"
     ]
    },
    {
     "name": "stdout",
     "output_type": "stream",
     "text": [
      "\n",
      "[Epoch: 0], \tTest Loss: 0.0791,\tAccuracy: 97.38 %\n",
      "\n"
     ]
    },
    {
     "name": "stderr",
     "output_type": "stream",
     "text": [
      "1875it [00:19, 95.96it/s]\n",
      "100%|███████████████████████████████████████████████████████████████████████████████| 313/313 [00:01<00:00, 163.51it/s]\n"
     ]
    },
    {
     "name": "stdout",
     "output_type": "stream",
     "text": [
      "\n",
      "[Epoch: 1], \tTest Loss: 0.0812,\tAccuracy: 97.45 %\n",
      "\n"
     ]
    },
    {
     "name": "stderr",
     "output_type": "stream",
     "text": [
      "1875it [00:19, 95.17it/s]\n",
      "100%|███████████████████████████████████████████████████████████████████████████████| 313/313 [00:01<00:00, 164.35it/s]\n"
     ]
    },
    {
     "name": "stdout",
     "output_type": "stream",
     "text": [
      "\n",
      "[Epoch: 2], \tTest Loss: 0.0772,\tAccuracy: 97.80 %\n",
      "\n"
     ]
    },
    {
     "name": "stderr",
     "output_type": "stream",
     "text": [
      "1875it [00:20, 93.60it/s]\n",
      "100%|███████████████████████████████████████████████████████████████████████████████| 313/313 [00:01<00:00, 163.90it/s]\n"
     ]
    },
    {
     "name": "stdout",
     "output_type": "stream",
     "text": [
      "\n",
      "[Epoch: 3], \tTest Loss: 0.0624,\tAccuracy: 98.03 %\n",
      "\n"
     ]
    },
    {
     "name": "stderr",
     "output_type": "stream",
     "text": [
      "1875it [00:19, 95.62it/s]\n",
      "100%|███████████████████████████████████████████████████████████████████████████████| 313/313 [00:01<00:00, 163.01it/s]\n"
     ]
    },
    {
     "name": "stdout",
     "output_type": "stream",
     "text": [
      "\n",
      "[Epoch: 4], \tTest Loss: 0.0675,\tAccuracy: 97.83 %\n",
      "\n"
     ]
    },
    {
     "name": "stderr",
     "output_type": "stream",
     "text": [
      "1875it [00:19, 94.94it/s]\n",
      "100%|███████████████████████████████████████████████████████████████████████████████| 313/313 [00:01<00:00, 162.80it/s]\n"
     ]
    },
    {
     "name": "stdout",
     "output_type": "stream",
     "text": [
      "\n",
      "[Epoch: 5], \tTest Loss: 0.0859,\tAccuracy: 97.23 %\n",
      "\n"
     ]
    },
    {
     "name": "stderr",
     "output_type": "stream",
     "text": [
      "1875it [00:19, 95.15it/s]\n",
      "100%|███████████████████████████████████████████████████████████████████████████████| 313/313 [00:01<00:00, 163.88it/s]\n"
     ]
    },
    {
     "name": "stdout",
     "output_type": "stream",
     "text": [
      "\n",
      "[Epoch: 6], \tTest Loss: 0.1010,\tAccuracy: 97.31 %\n",
      "\n"
     ]
    },
    {
     "name": "stderr",
     "output_type": "stream",
     "text": [
      "1875it [00:19, 96.07it/s]\n",
      "100%|███████████████████████████████████████████████████████████████████████████████| 313/313 [00:01<00:00, 166.16it/s]\n"
     ]
    },
    {
     "name": "stdout",
     "output_type": "stream",
     "text": [
      "\n",
      "[Epoch: 7], \tTest Loss: 0.0926,\tAccuracy: 97.53 %\n",
      "\n"
     ]
    },
    {
     "name": "stderr",
     "output_type": "stream",
     "text": [
      "1875it [00:20, 93.40it/s]\n",
      "100%|███████████████████████████████████████████████████████████████████████████████| 313/313 [00:02<00:00, 154.73it/s]\n"
     ]
    },
    {
     "name": "stdout",
     "output_type": "stream",
     "text": [
      "\n",
      "[Epoch: 8], \tTest Loss: 0.1109,\tAccuracy: 96.92 %\n",
      "\n"
     ]
    },
    {
     "name": "stderr",
     "output_type": "stream",
     "text": [
      "1875it [00:20, 91.07it/s]\n",
      "100%|███████████████████████████████████████████████████████████████████████████████| 313/313 [00:01<00:00, 166.24it/s]\n"
     ]
    },
    {
     "name": "stdout",
     "output_type": "stream",
     "text": [
      "\n",
      "[Epoch: 9], \tTest Loss: 0.0795,\tAccuracy: 97.84 %\n",
      "\n"
     ]
    },
    {
     "name": "stderr",
     "output_type": "stream",
     "text": [
      "1875it [00:18, 101.62it/s]\n",
      "100%|███████████████████████████████████████████████████████████████████████████████| 313/313 [00:01<00:00, 175.29it/s]\n"
     ]
    },
    {
     "name": "stdout",
     "output_type": "stream",
     "text": [
      "\n",
      "[Epoch: 10], \tTest Loss: 0.0698,\tAccuracy: 97.87 %\n",
      "\n"
     ]
    },
    {
     "name": "stderr",
     "output_type": "stream",
     "text": [
      "1875it [00:18, 100.55it/s]\n",
      "100%|███████████████████████████████████████████████████████████████████████████████| 313/313 [00:01<00:00, 171.73it/s]\n"
     ]
    },
    {
     "name": "stdout",
     "output_type": "stream",
     "text": [
      "\n",
      "[Epoch: 11], \tTest Loss: 0.0804,\tAccuracy: 97.57 %\n",
      "\n"
     ]
    },
    {
     "name": "stderr",
     "output_type": "stream",
     "text": [
      "1875it [00:19, 97.99it/s] \n",
      "100%|███████████████████████████████████████████████████████████████████████████████| 313/313 [00:01<00:00, 166.92it/s]\n"
     ]
    },
    {
     "name": "stdout",
     "output_type": "stream",
     "text": [
      "\n",
      "[Epoch: 12], \tTest Loss: 0.0844,\tAccuracy: 97.60 %\n",
      "\n"
     ]
    },
    {
     "name": "stderr",
     "output_type": "stream",
     "text": [
      "1875it [00:18, 100.43it/s]\n",
      "100%|███████████████████████████████████████████████████████████████████████████████| 313/313 [00:01<00:00, 172.11it/s]\n"
     ]
    },
    {
     "name": "stdout",
     "output_type": "stream",
     "text": [
      "\n",
      "[Epoch: 13], \tTest Loss: 0.0888,\tAccuracy: 97.65 %\n",
      "\n"
     ]
    },
    {
     "name": "stderr",
     "output_type": "stream",
     "text": [
      "1875it [00:19, 96.38it/s]\n",
      "100%|███████████████████████████████████████████████████████████████████████████████| 313/313 [00:01<00:00, 166.71it/s]\n"
     ]
    },
    {
     "name": "stdout",
     "output_type": "stream",
     "text": [
      "\n",
      "[Epoch: 14], \tTest Loss: 0.0906,\tAccuracy: 97.42 %\n",
      "\n"
     ]
    },
    {
     "name": "stderr",
     "output_type": "stream",
     "text": [
      "1875it [00:19, 94.33it/s]\n",
      "100%|███████████████████████████████████████████████████████████████████████████████| 313/313 [00:01<00:00, 164.33it/s]\n"
     ]
    },
    {
     "name": "stdout",
     "output_type": "stream",
     "text": [
      "\n",
      "[Epoch: 15], \tTest Loss: 0.1098,\tAccuracy: 97.50 %\n",
      "\n"
     ]
    },
    {
     "name": "stderr",
     "output_type": "stream",
     "text": [
      "1875it [00:19, 95.91it/s]\n",
      "100%|███████████████████████████████████████████████████████████████████████████████| 313/313 [00:01<00:00, 163.86it/s]\n"
     ]
    },
    {
     "name": "stdout",
     "output_type": "stream",
     "text": [
      "\n",
      "[Epoch: 16], \tTest Loss: 0.0987,\tAccuracy: 97.46 %\n",
      "\n"
     ]
    },
    {
     "name": "stderr",
     "output_type": "stream",
     "text": [
      "1875it [00:19, 95.16it/s]\n",
      "100%|███████████████████████████████████████████████████████████████████████████████| 313/313 [00:01<00:00, 159.54it/s]\n"
     ]
    },
    {
     "name": "stdout",
     "output_type": "stream",
     "text": [
      "\n",
      "[Epoch: 17], \tTest Loss: 0.0988,\tAccuracy: 97.33 %\n",
      "\n"
     ]
    },
    {
     "name": "stderr",
     "output_type": "stream",
     "text": [
      "1875it [00:20, 92.38it/s]\n",
      "100%|███████████████████████████████████████████████████████████████████████████████| 313/313 [00:01<00:00, 160.44it/s]\n"
     ]
    },
    {
     "name": "stdout",
     "output_type": "stream",
     "text": [
      "\n",
      "[Epoch: 18], \tTest Loss: 0.1033,\tAccuracy: 97.32 %\n",
      "\n"
     ]
    },
    {
     "name": "stderr",
     "output_type": "stream",
     "text": [
      "1875it [00:19, 94.02it/s] \n",
      "100%|███████████████████████████████████████████████████████████████████████████████| 313/313 [00:01<00:00, 173.37it/s]"
     ]
    },
    {
     "name": "stdout",
     "output_type": "stream",
     "text": [
      "\n",
      "[Epoch: 19], \tTest Loss: 0.0771,\tAccuracy: 97.92 %\n",
      "\n"
     ]
    },
    {
     "name": "stderr",
     "output_type": "stream",
     "text": [
      "\n"
     ]
    }
   ],
   "source": [
    "for epoch in range(n_epochs):\n",
    "    train(model, train_loader, optimizer, log_interval=10000)\n",
    "    test_loss, accuracy = evaluate(model, test_loader)\n",
    "    print(\"\\n[Epoch: {}], \\tTest Loss: {:.4f},\\tAccuracy: {:.2f} %\\n\".format(epoch, test_loss, accuracy))"
   ]
  },
  {
   "cell_type": "code",
   "execution_count": null,
   "id": "811b5904-041a-4bb8-b936-288596a97419",
   "metadata": {},
   "outputs": [],
   "source": []
  }
 ],
 "metadata": {
  "kernelspec": {
   "display_name": "Python [conda env:base] *",
   "language": "python",
   "name": "conda-base-py"
  },
  "language_info": {
   "codemirror_mode": {
    "name": "ipython",
    "version": 3
   },
   "file_extension": ".py",
   "mimetype": "text/x-python",
   "name": "python",
   "nbconvert_exporter": "python",
   "pygments_lexer": "ipython3",
   "version": "3.12.7"
  }
 },
 "nbformat": 4,
 "nbformat_minor": 5
}
