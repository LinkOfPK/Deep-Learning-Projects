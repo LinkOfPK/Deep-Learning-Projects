{
 "cells": [
  {
   "cell_type": "code",
   "execution_count": 1,
   "id": "d3a9bee3-34eb-41ee-89a8-994454851321",
   "metadata": {},
   "outputs": [],
   "source": [
    "# Import dependencies\n",
    "import torch\n",
    "import torch.nn as nn\n",
    "import torch.nn.functional as F\n",
    "from torchvision import transforms, datasets\n",
    "\n",
    "import numpy as np\n",
    "from tqdm import tqdm\n",
    "import matplotlib.pyplot as plt"
   ]
  },
  {
   "cell_type": "code",
   "execution_count": 2,
   "id": "99376000-755e-458a-9b84-81307609d4b3",
   "metadata": {},
   "outputs": [],
   "source": [
    "# Set processing unit\n",
    "device = 'cuda:0' if torch.cuda.is_available() else 'cpu'"
   ]
  },
  {
   "cell_type": "code",
   "execution_count": 3,
   "id": "3fb25abd-f71d-407a-a9b8-bffb8241c149",
   "metadata": {},
   "outputs": [],
   "source": [
    "# Set seeds of random variables\n",
    "torch.manual_seed(777)\n",
    "if device == 'cuda:0':\n",
    "    torch.cuda.manual_seed_all(777)"
   ]
  },
  {
   "cell_type": "code",
   "execution_count": 4,
   "id": "83987ab6-bd9a-4f9b-a812-0bc2f371e9ab",
   "metadata": {},
   "outputs": [],
   "source": [
    "# Model training settings\n",
    "batch_size = 32\n",
    "n_epochs = 20\n",
    "lr = 0.01 # learning rate\n",
    "momentum = 0.5"
   ]
  },
  {
   "cell_type": "code",
   "execution_count": 5,
   "id": "93004092-9bc4-4d85-9046-54431568bab1",
   "metadata": {},
   "outputs": [],
   "source": [
    "# Image normalization\n",
    "transform = transforms.Compose(\n",
    "    [transforms.ToTensor(),\n",
    "    transforms.Normalize((0.485, 0.456, 0.406), (0.229, 0.224, 0.225))])"
   ]
  },
  {
   "cell_type": "code",
   "execution_count": 6,
   "id": "30233c0f-3549-42f6-a759-1315ee54f612",
   "metadata": {},
   "outputs": [
    {
     "name": "stdout",
     "output_type": "stream",
     "text": [
      "Files already downloaded and verified\n",
      "Files already downloaded and verified\n"
     ]
    }
   ],
   "source": [
    "# CIFAR10 dataset preparation\n",
    "train_dataset = datasets.CIFAR10(root='./data/CIFAR10', train=True, download=True, transform=transform)\n",
    "test_dataset = datasets.CIFAR10(root='./data/CIFAR10', train=False, download=True, transform=transform)\n",
    "\n",
    "# Load CIFAR10 feeder\n",
    "train_loader = torch.utils.data.DataLoader(dataset=train_dataset, batch_size=batch_size, shuffle=True)\n",
    "test_loader = torch.utils.data.DataLoader(dataset=test_dataset, batch_size=batch_size, shuffle=False)"
   ]
  },
  {
   "cell_type": "code",
   "execution_count": 7,
   "id": "2b2e9ee6-f6e2-4713-9ccf-5947ec6368bb",
   "metadata": {},
   "outputs": [],
   "source": [
    "# Define network architecture\n",
    "class MultiLayerPerceptron(nn.Module):\n",
    "    def __init__(self):\n",
    "        super(MultiLayerPerceptron, self).__init__()\n",
    "        self.fc1 = nn.Linear(3 * 32 * 32, 512) # (N, 784, 512), N - batch_size\n",
    "        self.fc2 = nn.Linear(512, 256)\n",
    "        self.fc3 = nn.Linear(256, 10)\n",
    "\n",
    "    def forward(self, x): # Forward propagation\n",
    "        x = x.view(-1, 3 * 32 * 32) # (N, 28, 28) -> (N, 784)\n",
    "        output = self.fc1(x) # (N, 784) -> (N, 512)\n",
    "        output = F.sigmoid(output)\n",
    "        output = self.fc2(output) # (N, 512) -> (512, 256)\n",
    "        output = F.sigmoid(output)\n",
    "        output = self.fc3(output) # (N, 256) -> (N, 10)\n",
    "        output = F.log_softmax(output, dim=1) # 256 logits -> probability distribution (10 classes)\n",
    "        return output"
   ]
  },
  {
   "cell_type": "code",
   "execution_count": 8,
   "id": "48eb7238-221c-4e14-83da-a6a8dda6a7b6",
   "metadata": {},
   "outputs": [],
   "source": [
    "# Prepare model training\n",
    "model = MultiLayerPerceptron().to(device)\n",
    "criterion = nn.CrossEntropyLoss()\n",
    "optimizer = torch.optim.SGD(model.parameters(), lr=lr, momentum=momentum)"
   ]
  },
  {
   "cell_type": "code",
   "execution_count": 9,
   "id": "4807b615-795a-4b76-9e37-9728a8b46f13",
   "metadata": {},
   "outputs": [],
   "source": [
    "# Train the model\n",
    "def train(model, train_loader, optimizer, log_interval=5):\n",
    "    model.train()\n",
    "    for idx, (x, y) in tqdm(enumerate(train_loader)):\n",
    "        x = x.to(device)\n",
    "        y = y.to(device)\n",
    "        output = model(x)\n",
    "        loss = criterion(output, y)\n",
    "\n",
    "        optimizer.zero_grad()\n",
    "        loss.backward()\n",
    "        optimizer.step()\n",
    "\n",
    "        if (idx + 1) % log_interval == 0:\n",
    "            print('Train epoch: [{}/{} ({:.2f}%)]\\tTrain Loss: {:.6f}'.format(idx * len(x), len(train_loader.dataset), 100. * idx / len(train_loader), loss.item()))"
   ]
  },
  {
   "cell_type": "code",
   "execution_count": 10,
   "id": "69a9cdda-15e5-4e4c-9570-6ba1694e1010",
   "metadata": {},
   "outputs": [],
   "source": [
    "# Evaluate the model\n",
    "def evaluate(model, test_loader):\n",
    "    model.eval()\n",
    "    test_loss = .0\n",
    "    correct = 0\n",
    "\n",
    "    with torch.no_grad():\n",
    "        for x, y in tqdm(test_loader):\n",
    "            x = x.to(device)\n",
    "            y = y.to(device)\n",
    "            output = model(x)\n",
    "            test_loss += criterion(output, y).item()\n",
    "            prediction = output.max(1, keepdim=True)[1]\n",
    "            correct += prediction.eq(y.view_as(prediction)).sum().item()\n",
    "\n",
    "    test_loss /= len(test_loader.dataset) / batch_size\n",
    "    accuracy = 100. * correct / len(test_loader.dataset)\n",
    "    return test_loss, accuracy"
   ]
  },
  {
   "cell_type": "code",
   "execution_count": 11,
   "id": "ed2c31d8-9a8d-46f3-978f-71c583411d68",
   "metadata": {},
   "outputs": [
    {
     "name": "stderr",
     "output_type": "stream",
     "text": [
      "1563it [00:12, 129.18it/s]\n",
      "100%|███████████████████████████████████████████████████████████████████████████████| 313/313 [00:02<00:00, 134.64it/s]\n"
     ]
    },
    {
     "name": "stdout",
     "output_type": "stream",
     "text": [
      "\n",
      "[Epoch: 0], \tTest Loss: 1.9469,\tAccuracy: 28.99 %\n",
      "\n"
     ]
    },
    {
     "name": "stderr",
     "output_type": "stream",
     "text": [
      "1563it [00:12, 124.36it/s]\n",
      "100%|███████████████████████████████████████████████████████████████████████████████| 313/313 [00:02<00:00, 135.54it/s]\n"
     ]
    },
    {
     "name": "stdout",
     "output_type": "stream",
     "text": [
      "\n",
      "[Epoch: 1], \tTest Loss: 1.8324,\tAccuracy: 34.82 %\n",
      "\n"
     ]
    },
    {
     "name": "stderr",
     "output_type": "stream",
     "text": [
      "1563it [00:12, 121.49it/s]\n",
      "100%|███████████████████████████████████████████████████████████████████████████████| 313/313 [00:02<00:00, 128.93it/s]\n"
     ]
    },
    {
     "name": "stdout",
     "output_type": "stream",
     "text": [
      "\n",
      "[Epoch: 2], \tTest Loss: 1.7708,\tAccuracy: 37.44 %\n",
      "\n"
     ]
    },
    {
     "name": "stderr",
     "output_type": "stream",
     "text": [
      "1563it [00:12, 122.48it/s]\n",
      "100%|███████████████████████████████████████████████████████████████████████████████| 313/313 [00:02<00:00, 115.73it/s]\n"
     ]
    },
    {
     "name": "stdout",
     "output_type": "stream",
     "text": [
      "\n",
      "[Epoch: 3], \tTest Loss: 1.7368,\tAccuracy: 37.90 %\n",
      "\n"
     ]
    },
    {
     "name": "stderr",
     "output_type": "stream",
     "text": [
      "1563it [00:12, 123.83it/s]\n",
      "100%|███████████████████████████████████████████████████████████████████████████████| 313/313 [00:02<00:00, 133.40it/s]\n"
     ]
    },
    {
     "name": "stdout",
     "output_type": "stream",
     "text": [
      "\n",
      "[Epoch: 4], \tTest Loss: 1.6887,\tAccuracy: 40.30 %\n",
      "\n"
     ]
    },
    {
     "name": "stderr",
     "output_type": "stream",
     "text": [
      "1563it [00:12, 123.86it/s]\n",
      "100%|███████████████████████████████████████████████████████████████████████████████| 313/313 [00:02<00:00, 132.87it/s]\n"
     ]
    },
    {
     "name": "stdout",
     "output_type": "stream",
     "text": [
      "\n",
      "[Epoch: 5], \tTest Loss: 1.6600,\tAccuracy: 41.79 %\n",
      "\n"
     ]
    },
    {
     "name": "stderr",
     "output_type": "stream",
     "text": [
      "1563it [00:12, 124.61it/s]\n",
      "100%|███████████████████████████████████████████████████████████████████████████████| 313/313 [00:02<00:00, 129.29it/s]\n"
     ]
    },
    {
     "name": "stdout",
     "output_type": "stream",
     "text": [
      "\n",
      "[Epoch: 6], \tTest Loss: 1.6379,\tAccuracy: 42.12 %\n",
      "\n"
     ]
    },
    {
     "name": "stderr",
     "output_type": "stream",
     "text": [
      "1563it [00:12, 125.30it/s]\n",
      "100%|███████████████████████████████████████████████████████████████████████████████| 313/313 [00:02<00:00, 130.82it/s]\n"
     ]
    },
    {
     "name": "stdout",
     "output_type": "stream",
     "text": [
      "\n",
      "[Epoch: 7], \tTest Loss: 1.6220,\tAccuracy: 42.77 %\n",
      "\n"
     ]
    },
    {
     "name": "stderr",
     "output_type": "stream",
     "text": [
      "1563it [00:12, 125.87it/s]\n",
      "100%|███████████████████████████████████████████████████████████████████████████████| 313/313 [00:02<00:00, 116.48it/s]\n"
     ]
    },
    {
     "name": "stdout",
     "output_type": "stream",
     "text": [
      "\n",
      "[Epoch: 8], \tTest Loss: 1.6036,\tAccuracy: 43.50 %\n",
      "\n"
     ]
    },
    {
     "name": "stderr",
     "output_type": "stream",
     "text": [
      "1563it [00:12, 122.86it/s]\n",
      "100%|███████████████████████████████████████████████████████████████████████████████| 313/313 [00:02<00:00, 130.47it/s]\n"
     ]
    },
    {
     "name": "stdout",
     "output_type": "stream",
     "text": [
      "\n",
      "[Epoch: 9], \tTest Loss: 1.5790,\tAccuracy: 44.82 %\n",
      "\n"
     ]
    },
    {
     "name": "stderr",
     "output_type": "stream",
     "text": [
      "1563it [00:12, 122.37it/s]\n",
      "100%|███████████████████████████████████████████████████████████████████████████████| 313/313 [00:02<00:00, 126.74it/s]\n"
     ]
    },
    {
     "name": "stdout",
     "output_type": "stream",
     "text": [
      "\n",
      "[Epoch: 10], \tTest Loss: 1.5732,\tAccuracy: 44.94 %\n",
      "\n"
     ]
    },
    {
     "name": "stderr",
     "output_type": "stream",
     "text": [
      "1563it [00:12, 122.29it/s]\n",
      "100%|███████████████████████████████████████████████████████████████████████████████| 313/313 [00:02<00:00, 125.23it/s]\n"
     ]
    },
    {
     "name": "stdout",
     "output_type": "stream",
     "text": [
      "\n",
      "[Epoch: 11], \tTest Loss: 1.5511,\tAccuracy: 45.93 %\n",
      "\n"
     ]
    },
    {
     "name": "stderr",
     "output_type": "stream",
     "text": [
      "1563it [00:12, 121.83it/s]\n",
      "100%|███████████████████████████████████████████████████████████████████████████████| 313/313 [00:02<00:00, 121.15it/s]\n"
     ]
    },
    {
     "name": "stdout",
     "output_type": "stream",
     "text": [
      "\n",
      "[Epoch: 12], \tTest Loss: 1.5415,\tAccuracy: 46.17 %\n",
      "\n"
     ]
    },
    {
     "name": "stderr",
     "output_type": "stream",
     "text": [
      "1563it [00:12, 120.38it/s]\n",
      "100%|███████████████████████████████████████████████████████████████████████████████| 313/313 [00:02<00:00, 121.60it/s]\n"
     ]
    },
    {
     "name": "stdout",
     "output_type": "stream",
     "text": [
      "\n",
      "[Epoch: 13], \tTest Loss: 1.5322,\tAccuracy: 46.48 %\n",
      "\n"
     ]
    },
    {
     "name": "stderr",
     "output_type": "stream",
     "text": [
      "1563it [00:12, 122.08it/s]\n",
      "100%|███████████████████████████████████████████████████████████████████████████████| 313/313 [00:02<00:00, 123.09it/s]\n"
     ]
    },
    {
     "name": "stdout",
     "output_type": "stream",
     "text": [
      "\n",
      "[Epoch: 14], \tTest Loss: 1.5156,\tAccuracy: 46.76 %\n",
      "\n"
     ]
    },
    {
     "name": "stderr",
     "output_type": "stream",
     "text": [
      "1563it [00:12, 121.83it/s]\n",
      "100%|███████████████████████████████████████████████████████████████████████████████| 313/313 [00:02<00:00, 120.57it/s]\n"
     ]
    },
    {
     "name": "stdout",
     "output_type": "stream",
     "text": [
      "\n",
      "[Epoch: 15], \tTest Loss: 1.5003,\tAccuracy: 47.29 %\n",
      "\n"
     ]
    },
    {
     "name": "stderr",
     "output_type": "stream",
     "text": [
      "1563it [00:12, 123.67it/s]\n",
      "100%|███████████████████████████████████████████████████████████████████████████████| 313/313 [00:02<00:00, 127.39it/s]\n"
     ]
    },
    {
     "name": "stdout",
     "output_type": "stream",
     "text": [
      "\n",
      "[Epoch: 16], \tTest Loss: 1.4959,\tAccuracy: 47.48 %\n",
      "\n"
     ]
    },
    {
     "name": "stderr",
     "output_type": "stream",
     "text": [
      "1563it [00:12, 121.42it/s]\n",
      "100%|███████████████████████████████████████████████████████████████████████████████| 313/313 [00:02<00:00, 120.48it/s]\n"
     ]
    },
    {
     "name": "stdout",
     "output_type": "stream",
     "text": [
      "\n",
      "[Epoch: 17], \tTest Loss: 1.4886,\tAccuracy: 47.87 %\n",
      "\n"
     ]
    },
    {
     "name": "stderr",
     "output_type": "stream",
     "text": [
      "1563it [00:13, 118.38it/s]\n",
      "100%|███████████████████████████████████████████████████████████████████████████████| 313/313 [00:02<00:00, 130.52it/s]\n"
     ]
    },
    {
     "name": "stdout",
     "output_type": "stream",
     "text": [
      "\n",
      "[Epoch: 18], \tTest Loss: 1.4786,\tAccuracy: 48.24 %\n",
      "\n"
     ]
    },
    {
     "name": "stderr",
     "output_type": "stream",
     "text": [
      "1563it [00:12, 124.71it/s]\n",
      "100%|███████████████████████████████████████████████████████████████████████████████| 313/313 [00:02<00:00, 131.38it/s]"
     ]
    },
    {
     "name": "stdout",
     "output_type": "stream",
     "text": [
      "\n",
      "[Epoch: 19], \tTest Loss: 1.4708,\tAccuracy: 48.84 %\n",
      "\n"
     ]
    },
    {
     "name": "stderr",
     "output_type": "stream",
     "text": [
      "\n"
     ]
    }
   ],
   "source": [
    "for epoch in range(n_epochs):\n",
    "    train(model, train_loader, optimizer, log_interval=10000)\n",
    "    test_loss, accuracy = evaluate(model, test_loader)\n",
    "    print(\"\\n[Epoch: {}], \\tTest Loss: {:.4f},\\tAccuracy: {:.2f} %\\n\".format(epoch, test_loss, accuracy))"
   ]
  },
  {
   "cell_type": "code",
   "execution_count": null,
   "id": "c09685d0-cd6a-449c-b4f8-abbc0895d6b5",
   "metadata": {},
   "outputs": [],
   "source": []
  }
 ],
 "metadata": {
  "kernelspec": {
   "display_name": "Python 3 (ipykernel)",
   "language": "python",
   "name": "python3"
  },
  "language_info": {
   "codemirror_mode": {
    "name": "ipython",
    "version": 3
   },
   "file_extension": ".py",
   "mimetype": "text/x-python",
   "name": "python",
   "nbconvert_exporter": "python",
   "pygments_lexer": "ipython3",
   "version": "3.12.3"
  }
 },
 "nbformat": 4,
 "nbformat_minor": 5
}
